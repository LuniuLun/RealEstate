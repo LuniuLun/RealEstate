{
 "cells": [
  {
   "cell_type": "code",
   "execution_count": 1,
   "metadata": {},
   "outputs": [],
   "source": [
    "import pandas as pd\n",
    "from pypmml import Model\n",
    "import numpy as np"
   ]
  },
  {
   "cell_type": "code",
   "execution_count": 2,
   "metadata": {},
   "outputs": [
    {
     "name": "stdout",
     "output_type": "stream",
     "text": [
      "   predicted_y\n",
      "0     1.190177\n",
      "Predicted actual price: [7.10317182e+09]\n"
     ]
    }
   ],
   "source": [
    "\n",
    "randomForest_regressor = Model.load('random_forest_model.pmml')\n",
    "\n",
    "# Load means, stds, and model from files\n",
    "scaler_params = pd.read_csv('scaler_params.csv')\n",
    "\n",
    "# Extract mean and std rows properly\n",
    "means = scaler_params[scaler_params['Metric'] == 'mean'].iloc[0]\n",
    "stds = scaler_params[scaler_params['Metric'] == 'std'].iloc[0]\n",
    "\n",
    "# Drop 'Metric' column since we only want the values\n",
    "means = means.drop('Metric')\n",
    "stds = stds.drop('Metric')\n",
    "\n",
    "# Standardize new data\n",
    "new_data = pd.DataFrame({\n",
    "    'Longitude': [108.2131],\n",
    "    'Latitude': [16.00091],\n",
    "    'Area': [100.0],\n",
    "    'Length': [20.0],  # meters\n",
    "    'Width': [5.0],    # meters\n",
    "    'Floors': [3.0],\n",
    "    'Rooms': [5.0],\n",
    "    'Toilets': [5.0],\n",
    "    'Category_HOUSE': [1],  # Nhà ở\n",
    "    'Category_LAND': [0],\n",
    "    'Land Type_AGRICULTURAL_LAND' : [0],\n",
    "    'Land Type_INDUSTRIAL_LAND': [0],\n",
    "    'Land Type_PROJECT_LAND': [0],\n",
    "    'Land Type_RESIDENTIAL_LAND': [0],\n",
    "    'House Direction_EAST': [0],\n",
    "    'House Direction_WEST': [0],\n",
    "    'House Direction_SOUTH': [0],\n",
    "    'House Direction_NORTH': [0],\n",
    "    'House Direction_SOUTHEAST': [0],\n",
    "    'House Direction_SOUTHWEST': [0],\n",
    "    'House Direction_NORTHEAST': [0],\n",
    "    'House Direction_NORTHWEST': [1], \n",
    "    'Furnishing Sell_BASIC_FINISHING': [1],\n",
    "    'Furnishing Sell_FULLY_FURNISHED': [0],\n",
    "    'Furnishing Sell_HIGH_END_FURNITURE': [0],\n",
    "    'Furnishing Sell_RAW_HANDOVER': [0],\n",
    "    '1 Part Residential': [0],\n",
    "    'All Residential': [0],\n",
    "    'Back Expansion': [0],\n",
    "    'Car Alley': [0],\n",
    "    'Frontage': [0],\n",
    "    'No Residential': [0],\n",
    "    'Price': [9900000000]\n",
    "})\n",
    "\n",
    "\n",
    "# Columns to transform\n",
    "columns_sqrt = [\"Longitude\", \"Latitude\", \"Area\",  \"Floors\", \"Rooms\", \"Toilets\"]\n",
    "\n",
    "# Apply square root transformation\n",
    "new_data[columns_sqrt] = new_data[columns_sqrt].apply(np.sqrt)\n",
    "\n",
    "# Standardize \"Length\"\n",
    "new_data[\"Length\"] = (new_data[\"Length\"] - means[\"length\"]) / stds[\"length\"]\n",
    "\n",
    "# Predict standardized price\n",
    "standardized_price = randomForest_regressor.predict(new_data)\n",
    "print(standardized_price)\n",
    "# Inverse transform to get actual price\n",
    "actual_price = standardized_price * stds[\"price\"] + means[\"price\"]\n",
    "\n",
    "actual_price = np.array(actual_price)\n",
    "print(f\"Predicted actual price: {actual_price[0]}\")"
   ]
  }
 ],
 "metadata": {
  "kernelspec": {
   "display_name": "base",
   "language": "python",
   "name": "python3"
  },
  "language_info": {
   "codemirror_mode": {
    "name": "ipython",
    "version": 3
   },
   "file_extension": ".py",
   "mimetype": "text/x-python",
   "name": "python",
   "nbconvert_exporter": "python",
   "pygments_lexer": "ipython3",
   "version": "3.11.5"
  }
 },
 "nbformat": 4,
 "nbformat_minor": 2
}
