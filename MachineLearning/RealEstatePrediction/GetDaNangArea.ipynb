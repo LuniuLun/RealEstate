{
 "cells": [
  {
   "cell_type": "code",
   "execution_count": 4,
   "id": "eceb556e",
   "metadata": {},
   "outputs": [
    {
     "name": "stdout",
     "output_type": "stream",
     "text": [
      "Đã tạo file danang_grouped_wards.json với dữ liệu dạng quận gồm các phường.\n"
     ]
    }
   ],
   "source": [
    "import requests\n",
    "import json\n",
    "\n",
    "# 1. Tải dữ liệu JSON hành chính Việt Nam\n",
    "url = 'https://raw.githubusercontent.com/kenzouno1/DiaGioiHanhChinhVN/master/data.json'\n",
    "response = requests.get(url)\n",
    "data = response.json()\n",
    "\n",
    "# 2. Lấy dữ liệu Thành phố Đà Nẵng\n",
    "danang = next((city for city in data if city.get(\"Name\") == \"Thành phố Đà Nẵng\"), None)\n",
    "if not danang:\n",
    "    raise ValueError(\"Không tìm thấy dữ liệu Thành phố Đà Nẵng\")\n",
    "\n",
    "# 3. Tạo cấu trúc dạng { \"District\": [Ward1, Ward2, ...] }\n",
    "district_wards_map = {}\n",
    "for district in danang.get(\"Districts\", []):\n",
    "    district_name = district.get(\"Name\", \"Không rõ quận/huyện\")\n",
    "    ward_names = [ward[\"Name\"] for ward in district.get(\"Wards\", []) if \"Name\" in ward]\n",
    "    district_wards_map[district_name] = ward_names\n",
    "\n",
    "# 4. Ghi ra file JSON\n",
    "with open(\"danang_grouped_wards.json\", \"w\", encoding=\"utf-8\") as f:\n",
    "    json.dump(district_wards_map, f, ensure_ascii=False, indent=2)\n",
    "\n",
    "print(\"Đã tạo file danang_grouped_wards.json với dữ liệu dạng quận gồm các phường.\")\n"
   ]
  }
 ],
 "metadata": {
  "kernelspec": {
   "display_name": "base",
   "language": "python",
   "name": "python3"
  },
  "language_info": {
   "codemirror_mode": {
    "name": "ipython",
    "version": 3
   },
   "file_extension": ".py",
   "mimetype": "text/x-python",
   "name": "python",
   "nbconvert_exporter": "python",
   "pygments_lexer": "ipython3",
   "version": "3.11.5"
  }
 },
 "nbformat": 4,
 "nbformat_minor": 5
}
