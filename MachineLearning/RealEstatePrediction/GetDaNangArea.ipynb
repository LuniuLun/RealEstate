{
 "cells": [
  {
   "cell_type": "code",
   "execution_count": null,
   "id": "eceb556e",
   "metadata": {},
   "outputs": [],
   "source": [
    "import requests\n",
    "import json\n",
    "\n",
    "# 1. Tải dữ liệu JSON hành chính Việt Nam\n",
    "url = 'https://raw.githubusercontent.com/kenzouno1/DiaGioiHanhChinhVN/master/data.json'\n",
    "response = requests.get(url)\n",
    "data = response.json()\n",
    "\n",
    "# 2. Lấy dữ liệu Thành phố Đà Nẵng\n",
    "danang = next((city for city in data if city.get(\"Name\") == \"Thành phố Đà Nẵng\"), None)\n",
    "if not danang:\n",
    "    raise ValueError(\"Không tìm thấy dữ liệu Thành phố Đà Nẵng\")\n",
    "\n",
    "# 3. Tạo cấu trúc dạng { \"District\": [Ward1, Ward2, ...] }\n",
    "district_wards_map = {}\n",
    "for district in danang.get(\"Districts\", []):\n",
    "    district_name = district.get(\"Name\", \"Không rõ quận/huyện\")\n",
    "    ward_names = [ward[\"Name\"] for ward in district.get(\"Wards\", []) if \"Name\" in ward]\n",
    "    district_wards_map[district_name] = ward_names\n",
    "\n",
    "# 4. Ghi ra file JSON\n",
    "with open(\"danang_grouped_wards.json\", \"w\", encoding=\"utf-8\") as f:\n",
    "    json.dump(district_wards_map, f, ensure_ascii=False, indent=2)\n",
    "\n",
    "print(\"Đã tạo file danang_grouped_wards.json với dữ liệu dạng quận gồm các phường.\")\n"
   ]
  },
  {
   "cell_type": "code",
   "execution_count": 1,
   "id": "812d9dea",
   "metadata": {},
   "outputs": [
    {
     "name": "stdout",
     "output_type": "stream",
     "text": [
      "                   Ward Name District Name\n",
      "162           Phường Hòa Khê           NaN\n",
      "190    Phường Hòa Thuận Đông           NaN\n",
      "193           Phường Hòa Khê           NaN\n",
      "194           Phường Hòa Khê           NaN\n",
      "196        Phường An Hải Tây           NaN\n",
      "...                      ...           ...\n",
      "22878       Phường Nam Dương           NaN\n",
      "22885     Phường An Hải Đông           NaN\n",
      "22889     Phường Hải Châu  I           NaN\n",
      "22890     Phường Hải Châu II           NaN\n",
      "22899     Phường Hải Châu II           NaN\n",
      "\n",
      "[487 rows x 2 columns]\n"
     ]
    },
    {
     "name": "stderr",
     "output_type": "stream",
     "text": [
      "C:\\Users\\DUC VAN\\AppData\\Local\\Temp\\ipykernel_10444\\2440242367.py:6: DtypeWarning: Columns (3,5,8,31,32,34,35,37,39,40,47) have mixed types. Specify dtype option on import or set low_memory=False.\n",
      "  df = pd.read_csv(\"RawData.csv\")\n"
     ]
    }
   ],
   "source": [
    "import pandas as pd\n",
    "import numpy as np\n",
    "import json\n",
    "\n",
    "# Đọc dữ liệu CSV\n",
    "df = pd.read_csv(\"RawData.csv\")\n",
    "\n",
    "# Đọc dữ liệu mapping từ file JSON\n",
    "with open(\"danang_grouped_wards.json\", \"r\", encoding=\"utf-8\") as f:\n",
    "    district_ward_map = json.load(f)\n",
    "\n",
    "# Tạo dict ward → district (đảo ngược lại để tra nhanh)\n",
    "ward_to_district = {}\n",
    "for district, wards in district_ward_map.items():\n",
    "    for ward in wards:\n",
    "        ward_to_district[ward] = district\n",
    "\n",
    "# Xác định dòng thiếu District Name\n",
    "mask_missing_district = df['District Name'].isna()\n",
    "\n",
    "# Nếu thiếu District, cố gắng điền từ Ward Name\n",
    "df.loc[mask_missing_district, 'District Name'] = df.loc[mask_missing_district, 'Ward Name'].map(ward_to_district)\n",
    "\n",
    "# Kiểm tra kết quả\n",
    "print(df[['Ward Name', 'District Name']][df['District Name'].isna()])  # các dòng vẫn chưa điền được\n",
    "\n",
    "# Lưu lại nếu muốn\n",
    "# df.to_csv(\"RawData_Fixed.csv\", index=False)\n"
   ]
  }
 ],
 "metadata": {
  "kernelspec": {
   "display_name": "base",
   "language": "python",
   "name": "python3"
  },
  "language_info": {
   "codemirror_mode": {
    "name": "ipython",
    "version": 3
   },
   "file_extension": ".py",
   "mimetype": "text/x-python",
   "name": "python",
   "nbconvert_exporter": "python",
   "pygments_lexer": "ipython3",
   "version": "3.11.5"
  }
 },
 "nbformat": 4,
 "nbformat_minor": 5
}
