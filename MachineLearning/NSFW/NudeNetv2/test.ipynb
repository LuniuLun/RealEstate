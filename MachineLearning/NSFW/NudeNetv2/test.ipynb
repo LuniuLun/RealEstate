{
 "cells": [
  {
   "cell_type": "code",
   "execution_count": 1,
   "id": "f235372f",
   "metadata": {},
   "outputs": [
    {
     "name": "stdout",
     "output_type": "stream",
     "text": [
      "\n",
      "🖼️ File: ../TestImages\\con-cho.jpg\n",
      "  unsafe: 0.0078\n",
      "  safe: 0.9922\n",
      "  ==> Prediction: safe\n",
      "\n",
      "🖼️ File: ../TestImages\\img_2.jpg\n",
      "  unsafe: 0.9986\n",
      "  safe: 0.0014\n",
      "  ==> Prediction: unsafe\n",
      "\n",
      "🖼️ File: ../TestImages\\persons.jpeg\n",
      "  unsafe: 0.1098\n",
      "  safe: 0.8902\n",
      "  ==> Prediction: safe\n",
      "\n",
      "🖼️ File: ../TestImages\\bao luc.jfif\n",
      "  unsafe: 0.0175\n",
      "  safe: 0.9825\n",
      "  ==> Prediction: safe\n",
      "\n",
      "🖼️ File: ../TestImages\\images.jfif\n",
      "  unsafe: 0.9071\n",
      "  safe: 0.0929\n",
      "  ==> Prediction: unsafe\n",
      "\n",
      "🖼️ File: ../TestImages\\ảnh nóng.jfif\n",
      "  unsafe: 0.9954\n",
      "  safe: 0.0046\n",
      "  ==> Prediction: unsafe\n"
     ]
    }
   ],
   "source": [
    "import onnxruntime\n",
    "import numpy as np\n",
    "from PIL import Image\n",
    "import glob\n",
    "import os\n",
    "\n",
    "# 1. Image preprocessing function (NHWC format)\n",
    "def preprocess_image(image_path):\n",
    "    image = Image.open(image_path).convert(\"RGB\")\n",
    "    image = image.resize((256, 256))  # Nudenet v2 uses 256x256 input\n",
    "    img_data = np.asarray(image).astype(np.float32) / 255.0  # Normalize to [0, 1]\n",
    "    img_data = np.expand_dims(img_data, axis=0)  # (1, 256, 256, 3)\n",
    "    return img_data\n",
    "\n",
    "# 2. Load the ONNX model\n",
    "onnx_path = \"../model/classifier_model.onnx\"\n",
    "session = onnxruntime.InferenceSession(onnx_path)\n",
    "input_name = session.get_inputs()[0].name\n",
    "output_name = session.get_outputs()[0].name\n",
    "\n",
    "# 3. Automatically load all image files from the folder\n",
    "image_extensions = [\"*.jpg\", \"*.jpeg\", \"*.png\", \"*.jfif\", \"*.bmp\", \"*.webp\"]\n",
    "image_path_list = []\n",
    "for ext in image_extensions:\n",
    "    image_path_list.extend(glob.glob(os.path.join(\"../TestImages\", ext)))\n",
    "\n",
    "# 4. Labels\n",
    "labels = ['unsafe', 'safe']\n",
    "\n",
    "# 5. Predict for each image\n",
    "for image_path in image_path_list:\n",
    "    input_tensor = preprocess_image(image_path)\n",
    "    outputs = session.run([output_name], {input_name: input_tensor})\n",
    "    preds = outputs[0][0]\n",
    "\n",
    "    print(f\"\\n🖼️ File: {image_path}\")\n",
    "    for i, prob in enumerate(preds):\n",
    "        print(f\"  {labels[i]}: {prob:.4f}\")\n",
    "    print(f\"  ==> Prediction: {labels[np.argmax(preds)]}\")\n"
   ]
  }
 ],
 "metadata": {
  "kernelspec": {
   "display_name": "base",
   "language": "python",
   "name": "python3"
  },
  "language_info": {
   "codemirror_mode": {
    "name": "ipython",
    "version": 3
   },
   "file_extension": ".py",
   "mimetype": "text/x-python",
   "name": "python",
   "nbconvert_exporter": "python",
   "pygments_lexer": "ipython3",
   "version": "3.11.5"
  }
 },
 "nbformat": 4,
 "nbformat_minor": 5
}
