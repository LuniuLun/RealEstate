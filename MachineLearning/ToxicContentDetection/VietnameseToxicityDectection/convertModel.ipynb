{
 "cells": [
  {
   "cell_type": "code",
   "execution_count": null,
   "id": "d7974d59",
   "metadata": {},
   "outputs": [],
   "source": [
    "import torch\n",
    "import torch.nn as nn\n",
    "from transformers import T5ForSequenceClassification, AutoTokenizer\n",
    "import numpy as np"
   ]
  },
  {
   "cell_type": "code",
   "execution_count": null,
   "id": "8a42b1e7",
   "metadata": {},
   "outputs": [
    {
     "name": "stdout",
     "output_type": "stream",
     "text": [
      "✅ TorchScript model saved as model.pt\n"
     ]
    }
   ],
   "source": [
    "from transformers import AutoModelForSequenceClassification\n",
    "\n",
    "# Load mô hình\n",
    "model_path = os.path.abspath(\"../VietnameseToxicityDectection\")\n",
    "tokenizer = AutoTokenizer.from_pretrained(model_path)\n",
    "base_model = AutoModelForSequenceClassification.from_pretrained(model_path, local_files_only=True)\n",
    "base_model.eval()\n",
    "\n",
    "# Gói lại model để chỉ trả về logits\n",
    "class WrappedModel(nn.Module):\n",
    "    def __init__(self, model):\n",
    "        super(WrappedModel, self).__init__()\n",
    "        self.model = model\n",
    "\n",
    "    def forward(self, input_ids, attention_mask=None):\n",
    "        outputs = self.model(input_ids=input_ids, attention_mask=attention_mask)\n",
    "        return outputs.logits  # Chỉ lấy logits để dễ trace/script\n",
    "\n",
    "# Gói model\n",
    "wrapped_model = WrappedModel(base_model)\n",
    "wrapped_model.eval()\n",
    "\n",
    "# Tạo input mẫu\n",
    "text = \"Đây là một ví dụ.\"\n",
    "inputs = tokenizer(text, return_tensors=\"pt\")\n",
    "\n",
    "# Trace\n",
    "traced_model = torch.jit.trace(wrapped_model, (inputs[\"input_ids\"], inputs[\"attention_mask\"]))\n",
    "traced_model.save(\"model.pt\")\n",
    "print(\"✅ TorchScript model saved as model.pt\")\n"
   ]
  },
  {
   "cell_type": "code",
   "execution_count": null,
   "id": "7d0bd2d1",
   "metadata": {},
   "outputs": [
    {
     "name": "stderr",
     "output_type": "stream",
     "text": [
      "Asking to truncate to max_length but no maximum length is provided and the model has no predefined maximum length. Default to no truncation.\n"
     ]
    },
    {
     "name": "stdout",
     "output_type": "stream",
     "text": [
      "📝 Text: Chúc bạn một ngày tốt lành!\n",
      "➡️ Prediction: NON-TOXIC (score=0.9999)\n",
      "\n",
      "📝 Text: Đồ ngu dốt, không biết gì cả.\n",
      "➡️ Prediction: TOXIC (score=0.9957)\n",
      "\n",
      "📝 Text: Buổi thuyết trình hôm nay thật tuyệt vời.\n",
      "➡️ Prediction: NON-TOXIC (score=0.9984)\n",
      "\n",
      "📝 Text: Mày là đồ vô học, cút đi!\n",
      "➡️ Prediction: TOXIC (score=0.9761)\n",
      "\n",
      "📝 Text: Cái nhà này rất tệ\n",
      "➡️ Prediction: TOXIC (score=0.6490)\n",
      "\n"
     ]
    }
   ],
   "source": [
    "# Load tokenizer\n",
    "model_path = os.path.abspath(\"../VietnameseToxicityDectection\")\n",
    "tokenizer = AutoTokenizer.from_pretrained(model_path)\n",
    "\n",
    "# Load TorchScript model\n",
    "model = torch.jit.load(\"model.pt\")\n",
    "model.eval()\n",
    "\n",
    "# Test data\n",
    "test_texts = [\n",
    "    \"Chúc bạn một ngày tốt lành!\",\n",
    "    \"Đồ ngu dốt, không biết gì cả.\",\n",
    "    \"Buổi thuyết trình hôm nay thật tuyệt vời.\",\n",
    "    \"Mày là đồ vô học, cút đi!\",\n",
    "    \"Cái nhà này rất tệ\"\n",
    "]\n",
    "\n",
    "# Xử lý input và chạy mô hình\n",
    "for text in test_texts:\n",
    "    inputs = tokenizer(text, return_tensors=\"pt\", padding=True, truncation=True)\n",
    "    with torch.no_grad():\n",
    "        logits = model(inputs[\"input_ids\"], inputs[\"attention_mask\"])\n",
    "        probs = torch.softmax(logits, dim=-1)  # softmax vì output có 2 lớp\n",
    "        pred = torch.argmax(probs, dim=-1).item()  # lấy index lớp có xác suất cao nhất\n",
    "        label = \"TOXIC\" if pred == 1 else \"NON-TOXIC\"\n",
    "        print(f\"📝 Text: {text}\\n➡️ Prediction: {label} (score={probs[0, pred]:.4f})\\n\")\n"
   ]
  },
  {
   "cell_type": "code",
   "execution_count": 13,
   "id": "3e2b7db4",
   "metadata": {},
   "outputs": [
    {
     "name": "stdout",
     "output_type": "stream",
     "text": [
      "torch.Size([36096, 768])\n",
      "(36096, 768)\n"
     ]
    }
   ],
   "source": [
    "import torch\n",
    "model = torch.jit.load(\"model.pt\")\n",
    "\n",
    "# In shape embedding\n",
    "print(model.model.transformer.shared.weight.shape)  # ví dụ: torch.Size([vocab_size, embedding_dim])\n",
    "\n",
    "# Nếu muốn lấy mảng numpy\n",
    "embedding_weights = model.model.transformer.shared.weight.detach().cpu().numpy()\n",
    "print(embedding_weights.shape)\n"
   ]
  },
  {
   "cell_type": "code",
   "execution_count": null,
   "id": "5ea08ada",
   "metadata": {},
   "outputs": [
    {
     "name": "stdout",
     "output_type": "stream",
     "text": [
      "✅ ONNX model exported as model.onnx\n"
     ]
    }
   ],
   "source": [
    "# Tạo input mẫu giống với input cho model\n",
    "text = \"Đây là một ví dụ.\"\n",
    "inputs = tokenizer(text, return_tensors=\"pt\")\n",
    "\n",
    "torch.onnx.export(\n",
    "    wrapped_model,\n",
    "    (inputs[\"input_ids\"], inputs[\"attention_mask\"]),\n",
    "    \"model.onnx\",\n",
    "    input_names=[\"input_ids\", \"attention_mask\"],\n",
    "    output_names=[\"logits\"],\n",
    "    dynamic_axes={\n",
    "        \"input_ids\": {0: \"batch_size\", 1: \"seq_len\"},\n",
    "        \"attention_mask\": {0: \"batch_size\", 1: \"seq_len\"},\n",
    "        \"logits\": {0: \"batch_size\"}\n",
    "    },\n",
    "    opset_version=14  # Đổi sang 14 để hỗ trợ triu và nhiều operator mới hơn\n",
    ")\n",
    "print(\"✅ ONNX model exported as model.onnx\")\n"
   ]
  },
  {
   "cell_type": "code",
   "execution_count": null,
   "id": "7fd111a0",
   "metadata": {},
   "outputs": [
    {
     "name": "stderr",
     "output_type": "stream",
     "text": [
      "Asking to truncate to max_length but no maximum length is provided and the model has no predefined maximum length. Default to no truncation.\n"
     ]
    },
    {
     "name": "stdout",
     "output_type": "stream",
     "text": [
      "📝 Text: Chúc bạn một ngày tốt lành!\n",
      "➡️ Prediction: NON-TOXIC (score=0.9999)\n",
      "\n",
      "📝 Text: Đồ ngu dốt, không biết gì cả.\n",
      "➡️ Prediction: TOXIC (score=0.9957)\n",
      "\n",
      "📝 Text: Buổi thuyết trình hôm nay thật tuyệt vời.\n",
      "➡️ Prediction: NON-TOXIC (score=0.9984)\n",
      "\n",
      "📝 Text: Mày là đồ vô học, cút đi!\n",
      "➡️ Prediction: TOXIC (score=0.9761)\n",
      "\n",
      "📝 Text: Cái nhà này rất tệ\n",
      "➡️ Prediction: TOXIC (score=0.6490)\n",
      "\n"
     ]
    }
   ],
   "source": [
    "import os\n",
    "\n",
    "# Load tokenizer\n",
    "model_path = os.path.abspath(\"../VietnameseToxicityDectection\")\n",
    "tokenizer = AutoTokenizer.from_pretrained(model_path)\n",
    "\n",
    "# Load ONNX model\n",
    "onnx_model_path = \"model.onnx\"\n",
    "ort_session = ort.InferenceSession(onnx_model_path)\n",
    "\n",
    "# Test data\n",
    "test_texts = [\n",
    "    \"Chúc bạn một ngày tốt lành!\",\n",
    "    \"Đồ ngu dốt, không biết gì cả.\",\n",
    "    \"Buổi thuyết trình hôm nay thật tuyệt vời.\",\n",
    "    \"Mày là đồ vô học, cút đi!\",\n",
    "    \"Cái nhà này rất tệ\"\n",
    "]\n",
    "\n",
    "for text in test_texts:\n",
    "    # Tokenize input text\n",
    "    inputs = tokenizer(text, return_tensors=\"np\", padding=True, truncation=True)\n",
    "\n",
    "    # Ép kiểu sang int64 vì ONNX Runtime yêu cầu\n",
    "    input_feed = {\n",
    "        \"input_ids\": inputs[\"input_ids\"].astype(np.int64),\n",
    "        \"attention_mask\": inputs[\"attention_mask\"].astype(np.int64)\n",
    "    }\n",
    "\n",
    "    # Run inference\n",
    "    logits = ort_session.run(output_names=[\"logits\"], input_feed=input_feed)[0]  # [batch_size, num_labels]\n",
    "\n",
    "    # Tính softmax để ra xác suất\n",
    "    probs = np.exp(logits) / np.exp(logits).sum(axis=-1, keepdims=True)\n",
    "\n",
    "    pred = np.argmax(probs, axis=-1)[0]\n",
    "    label = \"TOXIC\" if pred == 1 else \"NON-TOXIC\"\n",
    "    print(f\"📝 Text: {text}\\n➡️ Prediction: {label} (score={probs[0, pred]:.4f})\\n\")\n"
   ]
  }
 ],
 "metadata": {
  "kernelspec": {
   "display_name": "base",
   "language": "python",
   "name": "python3"
  },
  "language_info": {
   "codemirror_mode": {
    "name": "ipython",
    "version": 3
   },
   "file_extension": ".py",
   "mimetype": "text/x-python",
   "name": "python",
   "nbconvert_exporter": "python",
   "pygments_lexer": "ipython3",
   "version": "3.11.5"
  }
 },
 "nbformat": 4,
 "nbformat_minor": 5
}
